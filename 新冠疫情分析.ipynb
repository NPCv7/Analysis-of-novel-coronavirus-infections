{
 "cells": [
  {
   "cell_type": "code",
   "execution_count": 1,
   "id": "7eaca039",
   "metadata": {},
   "outputs": [],
   "source": [
    "#加载模型库\n",
    "import pandas as pd\n",
    "import numpy as np\n",
    "import scipy\n",
    "import statsmodels.api as sp\n",
    "import matplotlib.pyplot as plt"
   ]
  },
  {
   "cell_type": "code",
   "execution_count": 38,
   "id": "5f4abeed",
   "metadata": {},
   "outputs": [],
   "source": [
    "# 解决中文显示问题\n",
    "plt.rcParams['font.sans-serif'] = ['SimHei']  # 指定默认字体\n",
    "plt.rcParams['axes.unicode_minus'] = False  # 解决保存图像是负号'-'显示为方块的问题\n"
   ]
  },
  {
   "cell_type": "code",
   "execution_count": 3,
   "id": "29d88e10",
   "metadata": {},
   "outputs": [],
   "source": [
    "#读取数据\n",
    "def get_data(path):\n",
    "    return pd.read_excel(path)\n",
    "\n",
    "\n",
    "#数据分段\n",
    "def split(data,start,end):\n",
    "    return data[start:end]"
   ]
  },
  {
   "cell_type": "code",
   "execution_count": 173,
   "id": "bdac9074",
   "metadata": {},
   "outputs": [],
   "source": [
    "#线性回归，返回预测值和残差\n",
    "def lr(x,y):\n",
    "    x1 = sp.add_constant(x)\n",
    "    model = sp.OLS(y,x1)\n",
    "    results=model.fit()\n",
    "    print(results.summary())\n",
    "    y_pred=model.predict(results.params,x1)\n",
    "    outliers = results.get_influence()\n",
    "    resids1 = outliers.resid_studentized_external \n",
    "    plt.figure(figsize=(8,8))\n",
    "    print('残差：')\n",
    "    print(resids1)\n",
    "    plt.subplot(2,1,2)\n",
    "    plt.hist(resids1)\n",
    "    plt.subplot(2,1,1)\n",
    "    plt.plot(x,y,'.')\n",
    "    plt.plot([min(x),max(x)],[min(x)*(results.params[1])+results.params[0],\n",
    "                             max(x)*(results.params[1])+results.params[0]])\n",
    "   # return y_pred,resids1\n"
   ]
  },
  {
   "cell_type": "code",
   "execution_count": 5,
   "id": "4571b909",
   "metadata": {},
   "outputs": [],
   "source": [
    "path = '../新冠/xinguan.xlsx'"
   ]
  },
  {
   "cell_type": "code",
   "execution_count": 6,
   "id": "a4b68257",
   "metadata": {},
   "outputs": [],
   "source": [
    "data = get_data(path)"
   ]
  },
  {
   "cell_type": "code",
   "execution_count": 7,
   "id": "96879644",
   "metadata": {},
   "outputs": [
    {
     "data": {
      "text/html": [
       "<div>\n",
       "<style scoped>\n",
       "    .dataframe tbody tr th:only-of-type {\n",
       "        vertical-align: middle;\n",
       "    }\n",
       "\n",
       "    .dataframe tbody tr th {\n",
       "        vertical-align: top;\n",
       "    }\n",
       "\n",
       "    .dataframe thead th {\n",
       "        text-align: right;\n",
       "    }\n",
       "</style>\n",
       "<table border=\"1\" class=\"dataframe\">\n",
       "  <thead>\n",
       "    <tr style=\"text-align: right;\">\n",
       "      <th></th>\n",
       "      <th>date</th>\n",
       "      <th>quezhen</th>\n",
       "      <th>wu</th>\n",
       "      <th>quewu</th>\n",
       "      <th>time_code</th>\n",
       "    </tr>\n",
       "  </thead>\n",
       "  <tbody>\n",
       "    <tr>\n",
       "      <th>0</th>\n",
       "      <td>2022-03-12</td>\n",
       "      <td>1</td>\n",
       "      <td>64</td>\n",
       "      <td>65</td>\n",
       "      <td>1</td>\n",
       "    </tr>\n",
       "    <tr>\n",
       "      <th>1</th>\n",
       "      <td>2022-03-13</td>\n",
       "      <td>41</td>\n",
       "      <td>128</td>\n",
       "      <td>169</td>\n",
       "      <td>2</td>\n",
       "    </tr>\n",
       "    <tr>\n",
       "      <th>2</th>\n",
       "      <td>2022-03-14</td>\n",
       "      <td>9</td>\n",
       "      <td>130</td>\n",
       "      <td>139</td>\n",
       "      <td>3</td>\n",
       "    </tr>\n",
       "    <tr>\n",
       "      <th>3</th>\n",
       "      <td>2022-03-15</td>\n",
       "      <td>5</td>\n",
       "      <td>197</td>\n",
       "      <td>202</td>\n",
       "      <td>4</td>\n",
       "    </tr>\n",
       "    <tr>\n",
       "      <th>4</th>\n",
       "      <td>2022-03-16</td>\n",
       "      <td>8</td>\n",
       "      <td>150</td>\n",
       "      <td>158</td>\n",
       "      <td>5</td>\n",
       "    </tr>\n",
       "  </tbody>\n",
       "</table>\n",
       "</div>"
      ],
      "text/plain": [
       "        date  quezhen   wu  quewu  time_code\n",
       "0 2022-03-12        1   64     65          1\n",
       "1 2022-03-13       41  128    169          2\n",
       "2 2022-03-14        9  130    139          3\n",
       "3 2022-03-15        5  197    202          4\n",
       "4 2022-03-16        8  150    158          5"
      ]
     },
     "execution_count": 7,
     "metadata": {},
     "output_type": "execute_result"
    }
   ],
   "source": [
    "data.head()"
   ]
  },
  {
   "cell_type": "code",
   "execution_count": 25,
   "id": "1ad921ef",
   "metadata": {},
   "outputs": [],
   "source": [
    "### 日期、确诊、无症状、确诊+无症状、日期编号\n",
    "data_date = data['date'].values\n",
    "data_quezhen = data['quezhen'].values\n",
    "data_wu = data['wu'].values\n",
    "data_quewu = data['quewu'].values\n",
    "data_time_code = data['time_code'].values"
   ]
  },
  {
   "cell_type": "markdown",
   "id": "5ad00afa",
   "metadata": {},
   "source": [
    "# 各个散点图"
   ]
  },
  {
   "cell_type": "code",
   "execution_count": 39,
   "id": "16b8341b",
   "metadata": {},
   "outputs": [
    {
     "data": {
      "text/plain": [
       "Text(0.5, 1.0, '确诊病例和无症状感染者')"
      ]
     },
     "execution_count": 39,
     "metadata": {},
     "output_type": "execute_result"
    },
    {
     "data": {
      "image/png": "[encoded data removed]",
      "text/plain": [
       "<Figure size 720x864 with 3 Axes>"
      ]
     },
     "metadata": {
      "needs_background": "light"
     },
     "output_type": "display_data"
    }
   ],
   "source": [
    "#各种需要的散点图\n",
    "plt.figure(figsize=(10,12))\n",
    "plt.subplot(3,1,1)\n",
    "plt.plot(data_date,data_quezhen,'.')\n",
    "plt.title('确诊病例')\n",
    "#plt.xticks(data_time_code,data_date,)\n",
    "plt.subplot(3,1,2)\n",
    "plt.plot(data_date,data_wu,'.')\n",
    "plt.title('无症状感染者')\n",
    "plt.subplot(3,1,3)\n",
    "plt.plot(data_date,data_quewu,'.')\n",
    "plt.title('确诊病例和无症状感染者')"
   ]
  },
  {
   "cell_type": "markdown",
   "id": "3984a0af",
   "metadata": {},
   "source": [
    "# 确诊和无症状的关系"
   ]
  },
  {
   "cell_type": "code",
   "execution_count": 171,
   "id": "67fbe13c",
   "metadata": {},
   "outputs": [
    {
     "name": "stdout",
     "output_type": "stream",
     "text": [
      "                            OLS Regression Results                            \n",
      "==============================================================================\n",
      "Dep. Variable:                      y   R-squared:                       0.466\n",
      "Model:                            OLS   Adj. R-squared:                  0.458\n",
      "Method:                 Least Squares   F-statistic:                     63.62\n",
      "Date:                Tue, 31 May 2022   Prob (F-statistic):           1.56e-11\n",
      "Time:                        15:56:36   Log-Likelihood:                -759.14\n",
      "No. Observations:                  75   AIC:                             1522.\n",
      "Df Residuals:                      73   BIC:                             1527.\n",
      "Df Model:                           1                                         \n",
      "Covariance Type:            nonrobust                                         \n",
      "==============================================================================\n",
      "                 coef    std err          t      P>|t|      [0.025      0.975]\n",
      "------------------------------------------------------------------------------\n",
      "const       3939.6293    859.967      4.581      0.000    2225.718    5653.541\n",
      "x1             5.0995      0.639      7.976      0.000       3.825       6.374\n",
      "==============================================================================\n",
      "Omnibus:                       16.252   Durbin-Watson:                   0.475\n",
      "Prob(Omnibus):                  0.000   Jarque-Bera (JB):               33.640\n",
      "Skew:                           0.691   Prob(JB):                     4.96e-08\n",
      "Kurtosis:                       5.976   Cond. No.                     1.64e+03\n",
      "==============================================================================\n",
      "\n",
      "Notes:\n",
      "[1] Standard Errors assume that the covariance matrix of the errors is correctly specified.\n",
      "[2] The condition number is large, 1.64e+03. This might indicate that there are\n",
      "strong multicollinearity or other numerical problems.\n"
     ]
    },
    {
     "data": {
      "image/png": "[encoded data removed]",
      "text/plain": [
       "<Figure size 576x576 with 2 Axes>"
      ]
     },
     "metadata": {
      "needs_background": "light"
     },
     "output_type": "display_data"
    }
   ],
   "source": [
    "#无症状感染者和确诊病例的关系，x是确诊，y是无症状\n",
    "lr(data_quezhen,data_wu)"
   ]
  },
  {
   "cell_type": "code",
   "execution_count": null,
   "id": "ebe509c3",
   "metadata": {},
   "outputs": [],
   "source": []
  },
  {
   "cell_type": "markdown",
   "id": "68bc76ed",
   "metadata": {},
   "source": [
    "# 确诊区间"
   ]
  },
  {
   "cell_type": "code",
   "execution_count": 161,
   "id": "ff443098",
   "metadata": {},
   "outputs": [],
   "source": [
    "#确诊病例分时间区间进行验证\n",
    "qz_1_18 = split(data_quezhen,0,18)\n",
    "time_1_18 = split(data_time_code,0,18)\n",
    "\n",
    "qz_19_28 = split(data_quezhen,18,28)\n",
    "time_19_28 = split(data_time_code,18,28)\n",
    "\n",
    "qz_29_47 = split(data_quezhen,28,47)\n",
    "time_29_47 = split(data_time_code,28,47)\n",
    "\n",
    "qz_48_75 = split(data_quezhen,47,75)\n",
    "time_48_75 = split(data_time_code,47,75)"
   ]
  },
  {
   "cell_type": "code",
   "execution_count": 174,
   "id": "54c8ee4f",
   "metadata": {},
   "outputs": [
    {
     "name": "stderr",
     "output_type": "stream",
     "text": [
      "F:\\python\\lib\\site-packages\\scipy\\stats\\stats.py:1603: UserWarning: kurtosistest only valid for n>=20 ... continuing anyway, n=18\n",
      "  warnings.warn(\"kurtosistest only valid for n>=20 ... continuing \"\n"
     ]
    },
    {
     "name": "stdout",
     "output_type": "stream",
     "text": [
      "                            OLS Regression Results                            \n",
      "==============================================================================\n",
      "Dep. Variable:                      y   R-squared:                       0.295\n",
      "Model:                            OLS   Adj. R-squared:                  0.251\n",
      "Method:                 Least Squares   F-statistic:                     6.693\n",
      "Date:                Tue, 31 May 2022   Prob (F-statistic):             0.0199\n",
      "Time:                        16:19:57   Log-Likelihood:                -99.479\n",
      "No. Observations:                  18   AIC:                             203.0\n",
      "Df Residuals:                      16   BIC:                             204.7\n",
      "Df Model:                           1                                         \n",
      "Covariance Type:            nonrobust                                         \n",
      "==============================================================================\n",
      "                 coef    std err          t      P>|t|      [0.025      0.975]\n",
      "------------------------------------------------------------------------------\n",
      "const        -27.9542     31.716     -0.881      0.391     -95.188      39.280\n",
      "x1             7.5800      2.930      2.587      0.020       1.369      13.791\n",
      "==============================================================================\n",
      "Omnibus:                       28.318   Durbin-Watson:                   0.905\n",
      "Prob(Omnibus):                  0.000   Jarque-Bera (JB):               47.346\n",
      "Skew:                           2.440   Prob(JB):                     5.24e-11\n",
      "Kurtosis:                       9.269   Cond. No.                         22.7\n",
      "==============================================================================\n",
      "\n",
      "Notes:\n",
      "[1] Standard Errors assume that the covariance matrix of the errors is correctly specified.\n",
      "残差：\n",
      "[ 0.36138415  0.91160373  0.23089338  0.04211398 -0.03074578  0.62616588\n",
      " -0.26670477 -0.24339162 -0.25187374 -0.26089483 -0.81378385 -0.94473112\n",
      " -0.66060243 -0.64338577 -0.6607535  -0.71436949 -0.08093388 11.24018815]\n"
     ]
    },
    {
     "data": {
      "image/png": "[encoded data removed]",
      "text/plain": [
       "<Figure size 576x576 with 2 Axes>"
      ]
     },
     "metadata": {
      "needs_background": "light"
     },
     "output_type": "display_data"
    }
   ],
   "source": [
    "lr(time_1_18,qz_1_18)"
   ]
  },
  {
   "cell_type": "code",
   "execution_count": 175,
   "id": "47dc6ef5",
   "metadata": {},
   "outputs": [
    {
     "name": "stderr",
     "output_type": "stream",
     "text": [
      "F:\\python\\lib\\site-packages\\scipy\\stats\\stats.py:1603: UserWarning: kurtosistest only valid for n>=20 ... continuing anyway, n=10\n",
      "  warnings.warn(\"kurtosistest only valid for n>=20 ... continuing \"\n"
     ]
    },
    {
     "name": "stdout",
     "output_type": "stream",
     "text": [
      "                            OLS Regression Results                            \n",
      "==============================================================================\n",
      "Dep. Variable:                      y   R-squared:                       0.420\n",
      "Model:                            OLS   Adj. R-squared:                  0.347\n",
      "Method:                 Least Squares   F-statistic:                     5.782\n",
      "Date:                Tue, 31 May 2022   Prob (F-statistic):             0.0429\n",
      "Time:                        16:20:15   Log-Likelihood:                -66.326\n",
      "No. Observations:                  10   AIC:                             136.7\n",
      "Df Residuals:                       8   BIC:                             137.3\n",
      "Df Model:                           1                                         \n",
      "Covariance Type:            nonrobust                                         \n",
      "==============================================================================\n",
      "                 coef    std err          t      P>|t|      [0.025      0.975]\n",
      "------------------------------------------------------------------------------\n",
      "const       -820.5152    535.505     -1.532      0.164   -2055.391     414.361\n",
      "x1            54.3879     22.619      2.405      0.043       2.228     106.548\n",
      "==============================================================================\n",
      "Omnibus:                        0.612   Durbin-Watson:                   0.922\n",
      "Prob(Omnibus):                  0.736   Jarque-Bera (JB):                0.530\n",
      "Skew:                          -0.040   Prob(JB):                        0.767\n",
      "Kurtosis:                       1.875   Cond. No.                         195.\n",
      "==============================================================================\n",
      "\n",
      "Notes:\n",
      "[1] Standard Errors assume that the covariance matrix of the errors is correctly specified.\n",
      "残差：\n",
      "[ 0.83923286  0.48459708 -0.311209    0.30407167 -0.02599049 -1.13390416\n",
      " -1.22562906 -1.58856747  0.98680978  2.35606454]\n"
     ]
    },
    {
     "data": {
      "image/png": "[encoded data removed]",
      "text/plain": [
       "<Figure size 576x576 with 2 Axes>"
      ]
     },
     "metadata": {
      "needs_background": "light"
     },
     "output_type": "display_data"
    }
   ],
   "source": [
    "lr(time_19_28,qz_19_28)"
   ]
  },
  {
   "cell_type": "code",
   "execution_count": 176,
   "id": "f9cfe042",
   "metadata": {},
   "outputs": [
    {
     "name": "stderr",
     "output_type": "stream",
     "text": [
      "F:\\python\\lib\\site-packages\\scipy\\stats\\stats.py:1603: UserWarning: kurtosistest only valid for n>=20 ... continuing anyway, n=19\n",
      "  warnings.warn(\"kurtosistest only valid for n>=20 ... continuing \"\n"
     ]
    },
    {
     "name": "stdout",
     "output_type": "stream",
     "text": [
      "                            OLS Regression Results                            \n",
      "==============================================================================\n",
      "Dep. Variable:                      y   R-squared:                       0.006\n",
      "Model:                            OLS   Adj. R-squared:                 -0.053\n",
      "Method:                 Least Squares   F-statistic:                    0.1002\n",
      "Date:                Tue, 31 May 2022   Prob (F-statistic):              0.755\n",
      "Time:                        16:20:16   Log-Likelihood:                -154.73\n",
      "No. Observations:                  19   AIC:                             313.5\n",
      "Df Residuals:                      17   BIC:                             315.3\n",
      "Df Model:                           1                                         \n",
      "Covariance Type:            nonrobust                                         \n",
      "==============================================================================\n",
      "                 coef    std err          t      P>|t|      [0.025      0.975]\n",
      "------------------------------------------------------------------------------\n",
      "const       1684.4667   1415.494      1.190      0.250   -1301.964    4670.898\n",
      "x1            11.6719     36.869      0.317      0.755     -66.114      89.458\n",
      "==============================================================================\n",
      "Omnibus:                        4.436   Durbin-Watson:                   0.680\n",
      "Prob(Omnibus):                  0.109   Jarque-Bera (JB):                1.486\n",
      "Skew:                           0.144   Prob(JB):                        0.476\n",
      "Kurtosis:                       1.661   Cond. No.                         269.\n",
      "==============================================================================\n",
      "\n",
      "Notes:\n",
      "[1] Standard Errors assume that the covariance matrix of the errors is correctly specified.\n",
      "残差：\n",
      "[-1.31476452 -1.4360097  -1.31544566 -1.05322441  0.58996213  1.35802742\n",
      "  1.89081118  1.36059734  0.34202405  1.12448565  0.40363368  0.55380229\n",
      " -0.26552249  0.65379293 -0.93518525  0.32215547 -0.66040936 -0.75530184\n",
      " -1.20729449]\n"
     ]
    },
    {
     "data": {
      "image/png": "[encoded data removed]",
      "text/plain": [
       "<Figure size 576x576 with 2 Axes>"
      ]
     },
     "metadata": {
      "needs_background": "light"
     },
     "output_type": "display_data"
    }
   ],
   "source": [
    "lr(time_29_47,qz_29_47)"
   ]
  },
  {
   "cell_type": "code",
   "execution_count": 177,
   "id": "ce7a3dc9",
   "metadata": {},
   "outputs": [
    {
     "name": "stdout",
     "output_type": "stream",
     "text": [
      "                            OLS Regression Results                            \n",
      "==============================================================================\n",
      "Dep. Variable:                      y   R-squared:                       0.243\n",
      "Model:                            OLS   Adj. R-squared:                  0.214\n",
      "Method:                 Least Squares   F-statistic:                     8.365\n",
      "Date:                Tue, 31 May 2022   Prob (F-statistic):            0.00763\n",
      "Time:                        16:20:18   Log-Likelihood:                -229.46\n",
      "No. Observations:                  28   AIC:                             462.9\n",
      "Df Residuals:                      26   BIC:                             465.6\n",
      "Df Model:                           1                                         \n",
      "Covariance Type:            nonrobust                                         \n",
      "==============================================================================\n",
      "                 coef    std err          t      P>|t|      [0.025      0.975]\n",
      "------------------------------------------------------------------------------\n",
      "const       4214.8489   1320.029      3.193      0.004    1501.491    6928.207\n",
      "x1           -61.5498     21.281     -2.892      0.008    -105.294     -17.806\n",
      "==============================================================================\n",
      "Omnibus:                       55.912   Durbin-Watson:                   0.830\n",
      "Prob(Omnibus):                  0.000   Jarque-Bera (JB):              384.692\n",
      "Skew:                           3.927   Prob(JB):                     2.92e-84\n",
      "Kurtosis:                      19.372   Cond. No.                         476.\n",
      "==============================================================================\n",
      "\n",
      "Notes:\n",
      "[1] Standard Errors assume that the covariance matrix of the errors is correctly specified.\n",
      "残差：\n",
      "[ 2.46500822e+01  5.76074400e-02 -4.00054485e-01 -3.96734703e-01\n",
      " -8.46157699e-01 -7.86073119e-01 -7.10150833e-01 -6.55165108e-01\n",
      " -5.74089463e-01 -5.45925249e-01 -3.56683792e-01 -3.85399222e-01\n",
      " -3.23476508e-01 -3.48106194e-01 -1.88704015e-01 -1.57393256e-01\n",
      " -1.20633582e-01 -1.59939560e-01 -8.34428341e-02  5.52363503e-03\n",
      "  5.83837106e-02  1.34035087e-01  1.99292040e-01  2.33761892e-01\n",
      "  3.08691979e-01  3.84995760e-01  4.43128608e-01  5.23866272e-01]\n"
     ]
    },
    {
     "data": {
      "image/png": "[encoded data removed]",
      "text/plain": [
       "<Figure size 576x576 with 2 Axes>"
      ]
     },
     "metadata": {
      "needs_background": "light"
     },
     "output_type": "display_data"
    }
   ],
   "source": [
    "lr(time_48_75,qz_48_75)"
   ]
  },
  {
   "cell_type": "markdown",
   "id": "a576b35d",
   "metadata": {},
   "source": [
    "# 无症状区间"
   ]
  },
  {
   "cell_type": "code",
   "execution_count": 178,
   "id": "9ff6a468",
   "metadata": {},
   "outputs": [],
   "source": [
    "wu_1_10 = split(data_wu,0,10)\n",
    "time_1_10 = split(data_time_code,0,10)\n",
    "\n",
    "wu_11_23 = split(data_wu,10,23)\n",
    "time_11_23 = split(data_time_code,10,23)\n",
    "\n",
    "wu_24_54 = split(data_quezhen,23,54)\n",
    "time_24_54 = split(data_time_code,23,54)\n",
    "\n",
    "wu_55_75 = split(data_quezhen,54,75)\n",
    "time_55_75 = split(data_time_code,54,75)"
   ]
  },
  {
   "cell_type": "code",
   "execution_count": 179,
   "id": "182031e3",
   "metadata": {},
   "outputs": [
    {
     "name": "stderr",
     "output_type": "stream",
     "text": [
      "F:\\python\\lib\\site-packages\\scipy\\stats\\stats.py:1603: UserWarning: kurtosistest only valid for n>=20 ... continuing anyway, n=10\n",
      "  warnings.warn(\"kurtosistest only valid for n>=20 ... continuing \"\n"
     ]
    },
    {
     "name": "stdout",
     "output_type": "stream",
     "text": [
      "                            OLS Regression Results                            \n",
      "==============================================================================\n",
      "Dep. Variable:                      y   R-squared:                       0.833\n",
      "Model:                            OLS   Adj. R-squared:                  0.812\n",
      "Method:                 Least Squares   F-statistic:                     39.98\n",
      "Date:                Tue, 31 May 2022   Prob (F-statistic):           0.000227\n",
      "Time:                        16:20:22   Log-Likelihood:                -60.976\n",
      "No. Observations:                  10   AIC:                             126.0\n",
      "Df Residuals:                       8   BIC:                             126.6\n",
      "Df Model:                           1                                         \n",
      "Covariance Type:            nonrobust                                         \n",
      "==============================================================================\n",
      "                 coef    std err          t      P>|t|      [0.025      0.975]\n",
      "------------------------------------------------------------------------------\n",
      "const       -127.8000     82.198     -1.555      0.159    -317.349      61.749\n",
      "x1            83.7636     13.247      6.323      0.000      53.215     114.312\n",
      "==============================================================================\n",
      "Omnibus:                        1.510   Durbin-Watson:                   0.524\n",
      "Prob(Omnibus):                  0.470   Jarque-Bera (JB):                0.759\n",
      "Skew:                          -0.149   Prob(JB):                        0.684\n",
      "Kurtosis:                       1.683   Cond. No.                         13.7\n",
      "==============================================================================\n",
      "\n",
      "Notes:\n",
      "[1] Standard Errors assume that the covariance matrix of the errors is correctly specified.\n",
      "残差：\n",
      "[ 1.12862246  0.8295973   0.05574869 -0.08537851 -1.28726383 -1.66643119\n",
      " -0.8049818  -0.43661532  1.03992838  1.80482423]\n"
     ]
    },
    {
     "data": {
      "image/png": "[encoded data removed]",
      "text/plain": [
       "<Figure size 576x576 with 2 Axes>"
      ]
     },
     "metadata": {
      "needs_background": "light"
     },
     "output_type": "display_data"
    }
   ],
   "source": [
    "lr(time_1_10,wu_1_10)"
   ]
  },
  {
   "cell_type": "code",
   "execution_count": 180,
   "id": "6e35d08d",
   "metadata": {},
   "outputs": [
    {
     "name": "stderr",
     "output_type": "stream",
     "text": [
      "F:\\python\\lib\\site-packages\\scipy\\stats\\stats.py:1603: UserWarning: kurtosistest only valid for n>=20 ... continuing anyway, n=13\n",
      "  warnings.warn(\"kurtosistest only valid for n>=20 ... continuing \"\n"
     ]
    },
    {
     "name": "stdout",
     "output_type": "stream",
     "text": [
      "                            OLS Regression Results                            \n",
      "==============================================================================\n",
      "Dep. Variable:                      y   R-squared:                       0.920\n",
      "Model:                            OLS   Adj. R-squared:                  0.913\n",
      "Method:                 Least Squares   F-statistic:                     127.3\n",
      "Date:                Tue, 31 May 2022   Prob (F-statistic):           2.19e-07\n",
      "Time:                        16:20:22   Log-Likelihood:                -103.04\n",
      "No. Observations:                  13   AIC:                             210.1\n",
      "Df Residuals:                      11   BIC:                             211.2\n",
      "Df Model:                           1                                         \n",
      "Covariance Type:            nonrobust                                         \n",
      "==============================================================================\n",
      "                 coef    std err          t      P>|t|      [0.025      0.975]\n",
      "------------------------------------------------------------------------------\n",
      "const      -6218.0549    939.642     -6.617      0.000   -8286.193   -4149.917\n",
      "x1           608.9670     53.981     11.281      0.000     490.156     727.778\n",
      "==============================================================================\n",
      "Omnibus:                        8.668   Durbin-Watson:                   1.378\n",
      "Prob(Omnibus):                  0.013   Jarque-Bera (JB):                4.480\n",
      "Skew:                          -1.164   Prob(JB):                        0.106\n",
      "Kurtosis:                       4.690   Cond. No.                         81.2\n",
      "==============================================================================\n",
      "\n",
      "Notes:\n",
      "[1] Standard Errors assume that the covariance matrix of the errors is correctly specified.\n",
      "残差：\n",
      "[ 0.78641776 -0.16350491 -0.17003816 -0.10719664 -0.39679271 -0.10313539\n",
      "  0.33798271  1.35748227 -0.07493966 -4.29057172 -0.76538816  0.93791426\n",
      "  1.32089586]\n"
     ]
    },
    {
     "data": {
      "image/png": "[encoded data removed]",
      "text/plain": [
       "<Figure size 576x576 with 2 Axes>"
      ]
     },
     "metadata": {
      "needs_background": "light"
     },
     "output_type": "display_data"
    }
   ],
   "source": [
    "lr(time_11_23,wu_11_23)"
   ]
  },
  {
   "cell_type": "code",
   "execution_count": 181,
   "id": "c9aded99",
   "metadata": {},
   "outputs": [
    {
     "name": "stdout",
     "output_type": "stream",
     "text": [
      "                            OLS Regression Results                            \n",
      "==============================================================================\n",
      "Dep. Variable:                      y   R-squared:                       0.005\n",
      "Model:                            OLS   Adj. R-squared:                 -0.030\n",
      "Method:                 Least Squares   F-statistic:                    0.1340\n",
      "Date:                Tue, 31 May 2022   Prob (F-statistic):              0.717\n",
      "Time:                        16:20:22   Log-Likelihood:                -264.29\n",
      "No. Observations:                  31   AIC:                             532.6\n",
      "Df Residuals:                      29   BIC:                             535.4\n",
      "Df Model:                           1                                         \n",
      "Covariance Type:            nonrobust                                         \n",
      "==============================================================================\n",
      "                 coef    std err          t      P>|t|      [0.025      0.975]\n",
      "------------------------------------------------------------------------------\n",
      "const       1322.9153   1013.310      1.306      0.202    -749.537    3395.367\n",
      "x1             9.2702     25.325      0.366      0.717     -42.525      61.065\n",
      "==============================================================================\n",
      "Omnibus:                        6.719   Durbin-Watson:                   0.981\n",
      "Prob(Omnibus):                  0.035   Jarque-Bera (JB):                5.108\n",
      "Skew:                           0.932   Prob(JB):                       0.0778\n",
      "Kurtosis:                       3.694   Cond. No.                         179.\n",
      "==============================================================================\n",
      "\n",
      "Notes:\n",
      "[1] Standard Errors assume that the covariance matrix of the errors is correctly specified.\n",
      "残差：\n",
      "[-1.08485302 -1.04781437 -1.03970344 -0.61615734 -0.46298575 -0.47580647\n",
      " -0.5565982  -0.49692272 -0.34527388  0.76121504  1.27935401  1.61393362\n",
      "  1.29164007  0.59916656  1.14170496  0.64592524  0.75235098  0.18083961\n",
      "  0.82207434 -0.25500908  0.59381759 -0.06310537 -0.11473205 -0.37552992\n",
      "  3.63570998 -0.42869648 -0.82119004 -0.88513486 -1.29471497 -1.3241363\n",
      " -1.34104147]\n"
     ]
    },
    {
     "data": {
      "image/png": "[encoded data removed]",
      "text/plain": [
       "<Figure size 576x576 with 2 Axes>"
      ]
     },
     "metadata": {
      "needs_background": "light"
     },
     "output_type": "display_data"
    }
   ],
   "source": [
    "lr(time_24_54,wu_24_54)"
   ]
  },
  {
   "cell_type": "code",
   "execution_count": 183,
   "id": "c4cea7a2",
   "metadata": {},
   "outputs": [
    {
     "name": "stdout",
     "output_type": "stream",
     "text": [
      "                            OLS Regression Results                            \n",
      "==============================================================================\n",
      "Dep. Variable:                      y   R-squared:                       0.821\n",
      "Model:                            OLS   Adj. R-squared:                  0.812\n",
      "Method:                 Least Squares   F-statistic:                     87.40\n",
      "Date:                Tue, 31 May 2022   Prob (F-statistic):           1.54e-08\n",
      "Time:                        16:20:31   Log-Likelihood:                -104.87\n",
      "No. Observations:                  21   AIC:                             213.7\n",
      "Df Residuals:                      19   BIC:                             215.8\n",
      "Df Model:                           1                                         \n",
      "Covariance Type:            nonrobust                                         \n",
      "==============================================================================\n",
      "                 coef    std err          t      P>|t|      [0.025      0.975]\n",
      "------------------------------------------------------------------------------\n",
      "const        963.4848     88.258     10.917      0.000     778.759    1148.211\n",
      "x1           -12.6390      1.352     -9.349      0.000     -15.469      -9.809\n",
      "==============================================================================\n",
      "Omnibus:                        1.683   Durbin-Watson:                   1.724\n",
      "Prob(Omnibus):                  0.431   Jarque-Bera (JB):                0.484\n",
      "Skew:                           0.262   Prob(JB):                        0.785\n",
      "Kurtosis:                       3.528   Cond. No.                         704.\n",
      "==============================================================================\n",
      "\n",
      "Notes:\n",
      "[1] Standard Errors assume that the covariance matrix of the errors is correctly specified.\n",
      "残差：\n",
      "[-0.67618394 -0.0762048  -0.79453068  3.13285514  0.44445964  0.6248515\n",
      " -1.37023885  1.32040327  0.72395064  0.30429197 -2.1806714  -1.47325055\n",
      " -0.555857   -0.5952267  -0.0913214   0.14189015 -0.38651186  0.0418433\n",
      "  0.48055477  0.44779217  0.95097343]\n"
     ]
    },
    {
     "data": {
      "image/png": "[encoded data removed]",
      "text/plain": [
       "<Figure size 576x576 with 2 Axes>"
      ]
     },
     "metadata": {
      "needs_background": "light"
     },
     "output_type": "display_data"
    }
   ],
   "source": [
    "lr(time_55_75,wu_55_75)"
   ]
  },
  {
   "cell_type": "code",
   "execution_count": null,
   "id": "3fabe1dc",
   "metadata": {},
   "outputs": [],
   "source": []
  }
 ],
 "metadata": {
  "kernelspec": {
   "display_name": "Python 3",
   "language": "python",
   "name": "python3"
  },
  "language_info": {
   "codemirror_mode": {
    "name": "ipython",
    "version": 3
   },
   "file_extension": ".py",
   "mimetype": "text/x-python",
   "name": "python",
   "nbconvert_exporter": "python",
   "pygments_lexer": "ipython3",
   "version": "3.8.8"
  }
 },
 "nbformat": 4,
 "nbformat_minor": 5
}
